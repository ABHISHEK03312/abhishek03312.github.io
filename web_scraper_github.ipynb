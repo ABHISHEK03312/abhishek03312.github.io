{
 "cells": [
  {
   "cell_type": "code",
   "execution_count": 3,
   "metadata": {},
   "outputs": [],
   "source": [
    "import requests\n",
    "from bs4 import BeautifulSoup\n",
    "import html5lib"
   ]
  },
  {
   "cell_type": "code",
   "execution_count": 5,
   "metadata": {},
   "outputs": [],
   "source": [
    "r=requests.get(\"https://github.com/ABHISHEK03312?tab=repositories\")\n",
    "soup=BeautifulSoup(r.content,'lxml')"
   ]
  },
  {
   "cell_type": "code",
   "execution_count": 76,
   "metadata": {},
   "outputs": [],
   "source": [
    "namediv=soup.find_all(\"div\" ,class_=\"col-10 col-lg-9 d-inline-block\")"
   ]
  },
  {
   "cell_type": "code",
   "execution_count": 111,
   "metadata": {},
   "outputs": [],
   "source": [
    "json_object = {}\n",
    "def get_json_dict(json_object,data_div):\n",
    "    for names in data_div:\n",
    "        href = names.find(\"a\")['href']\n",
    "        name = href[15:]\n",
    "        link = \"https://github.com\"+href\n",
    "        visibility = names.find(\"span\",class_=\"Label Label--secondary v-align-middle ml-1 mb-1\").get_text()\n",
    "        sub = requests.get(link)\n",
    "        sub_soup = BeautifulSoup(sub.content,'lxml')\n",
    "        try:\n",
    "            about = sub_soup.find(\"p\" ,class_=\"f4 my-3\").getText().strip()\n",
    "        except:\n",
    "            about=\"None\"\n",
    "        languages = []\n",
    "        for language in sub_soup.find_all(\"div\" ,class_=\"BorderGrid-row\")[-1].find_all(\"span\",class_=\"color-fg-default text-bold mr-1\"):\n",
    "            languages.append(language.getText())\n",
    "\n",
    "        sub_data_dict = {}\n",
    "        sub_data_dict[\"name\"]=name\n",
    "        sub_data_dict['link']=link\n",
    "        sub_data_dict['visibility']=visibility\n",
    "        sub_data_dict['about']=about\n",
    "        sub_data_dict['languages']=languages\n",
    "\n",
    "        json_object[name] = sub_data_dict"
   ]
  },
  {
   "cell_type": "code",
   "execution_count": 112,
   "metadata": {},
   "outputs": [],
   "source": [
    "get_json_dict(json_object,namediv)"
   ]
  },
  {
   "cell_type": "code",
   "execution_count": 131,
   "metadata": {},
   "outputs": [],
   "source": [
    "next_page = soup.find_all(\"div\",class_='col-2 col-lg-3 d-flex flex-column flex-justify-around')"
   ]
  },
  {
   "cell_type": "code",
   "execution_count": 152,
   "metadata": {},
   "outputs": [],
   "source": [
    "new_ro=requests.get(\"https://github.com/ABHISHEK03312?before=Y3Vyc29yOnYyOpK5MjAyMC0wNS0yOVQxOToyNzo1MyswNTozMM4P92DL&tab=repositories\")\n",
    "new_soup_ro=BeautifulSoup(new_ro.content,'lxml')"
   ]
  },
  {
   "cell_type": "code",
   "execution_count": 153,
   "metadata": {},
   "outputs": [],
   "source": [
    "next_page_ro = new_soup_ro.find_all(\"a\",class_='btn btn-outline BtnGroup-item')"
   ]
  },
  {
   "cell_type": "code",
   "execution_count": 156,
   "metadata": {},
   "outputs": [
    {
     "data": {
      "text/plain": [
       "[<a class=\"btn btn-outline BtnGroup-item\" href=\"https://github.com/ABHISHEK03312?after=Y3Vyc29yOnYyOpK0MjAyMC0wNi0xMlQxNzoyOToxNFrOEDQnfw%3D%3D&amp;tab=repositories\" rel=\"nofollow\">Next</a>]"
      ]
     },
     "execution_count": 156,
     "metadata": {},
     "output_type": "execute_result"
    }
   ],
   "source": [
    "next_page_ro"
   ]
  },
  {
   "cell_type": "code",
   "execution_count": 167,
   "metadata": {},
   "outputs": [],
   "source": [
    "def get_json_dict(json_object,data_div):\n",
    "    for names in data_div:\n",
    "        href = names.find(\"a\")['href']\n",
    "        name = href[15:]\n",
    "        link = \"https://github.com\"+href\n",
    "        visibility = names.find(\"span\",class_=\"Label Label--secondary v-align-middle ml-1 mb-1\").get_text()\n",
    "        sub = requests.get(link)\n",
    "        sub_soup = BeautifulSoup(sub.content,'lxml')\n",
    "        try:\n",
    "            about = sub_soup.find(\"p\" ,class_=\"f4 my-3\").getText().strip()\n",
    "        except:\n",
    "            about=\"None\"\n",
    "        languages = []\n",
    "        for language in sub_soup.find_all(\"div\" ,class_=\"BorderGrid-row\")[-1].find_all(\"span\",class_=\"color-fg-default text-bold mr-1\"):\n",
    "            languages.append(language.getText())\n",
    "\n",
    "        sub_data_dict = {}\n",
    "        sub_data_dict[\"name\"]=name\n",
    "        sub_data_dict['link']=link\n",
    "        sub_data_dict['visibility']=visibility\n",
    "        sub_data_dict['about']=about\n",
    "        sub_data_dict['languages']=languages\n",
    "\n",
    "        json_object[name] = sub_data_dict\n",
    "\n",
    "def scrape_data(link,json_object):\n",
    "    res=requests.get(link)\n",
    "    soup_data=BeautifulSoup(res.content,'lxml')\n",
    "    page = soup_data.find_all(\"div\" ,class_=\"col-10 col-lg-9 d-inline-block\")\n",
    "    get_json_dict(json_object,page)\n",
    "    pages = soup_data.find_all(\"a\",class_='btn btn-outline BtnGroup-item')\n",
    "    if len(pages)==0:\n",
    "        print(\"End of scraping\")\n",
    "    elif(pages[-1].getText()=='Next'):\n",
    "        print(\"Next page\")\n",
    "        scrape_data(next_page_ro[-1]['href'],json_object)\n",
    "    else:\n",
    "        print(\"End of scraping\")\n"
   ]
  },
  {
   "cell_type": "code",
   "execution_count": 172,
   "metadata": {},
   "outputs": [
    {
     "name": "stdout",
     "output_type": "stream",
     "text": [
      "Next page\n",
      "End of scraping\n"
     ]
    }
   ],
   "source": [
    "json_object = {}\n",
    "scrape_data(\"https://github.com/ABHISHEK03312?before=Y3Vyc29yOnYyOpK5MjAyMC0wNS0yOVQxOToyNzo1MyswNTozMM4P92DL&tab=repositories\",json_object)"
   ]
  },
  {
   "cell_type": "code",
   "execution_count": 173,
   "metadata": {},
   "outputs": [
    {
     "data": {
      "text/plain": [
       "dict_keys(['spam-filter', 'Intelligent-Agents-Play-Rummy', 'Databases', 'Video-Game-Credit-Extraction', 'NLP-assignment2', 'ABHISHEK03312', 'Abhishek-Vaidyanathan', 'Data-Analysis-with-Computer', 'AI', 'JobsUpply', 'FaceForensics', 'Course-Registration-System', 'Genome-searching-Algorithms', 'Graph-Algorithms', 'Music-Moods', 'Canteen-information-system'])"
      ]
     },
     "execution_count": 173,
     "metadata": {},
     "output_type": "execute_result"
    }
   ],
   "source": [
    "json_object.keys()"
   ]
  },
  {
   "cell_type": "code",
   "execution_count": 174,
   "metadata": {},
   "outputs": [],
   "source": [
    "import json \n",
    "with open(\"/Users/abhishekvaidyanathan/Desktop/Portfolio-website/sample.json\", \"w\") as outfile:\n",
    "    json.dump(json_object, outfile)"
   ]
  },
  {
   "cell_type": "code",
   "execution_count": 239,
   "metadata": {},
   "outputs": [],
   "source": [
    "r=requests.get(\"https://www.linkedin.com/in/abhishek-vaidyanathan-3364b2196/\")\n",
    "soup=BeautifulSoup(r.content,'lxml')"
   ]
  },
  {
   "cell_type": "code",
   "execution_count": 242,
   "metadata": {},
   "outputs": [],
   "source": [
    "experience=soup.find_all(\"section\" ,class_=\"pv-profile-section experience-section ember-view\")"
   ]
  },
  {
   "cell_type": "code",
   "execution_count": 243,
   "metadata": {},
   "outputs": [
    {
     "data": {
      "text/plain": [
       "[]"
      ]
     },
     "execution_count": 243,
     "metadata": {},
     "output_type": "execute_result"
    }
   ],
   "source": [
    "experience"
   ]
  },
  {
   "cell_type": "code",
   "execution_count": 249,
   "metadata": {},
   "outputs": [
    {
     "name": "stderr",
     "output_type": "stream",
     "text": [
      "\n",
      "\n",
      "====== WebDriver manager ======\n",
      "Current google-chrome version is 96.0.4664\n",
      "Get LATEST chromedriver version for 96.0.4664 google-chrome\n",
      "Driver [/Users/abhishekvaidyanathan/.wdm/drivers/chromedriver/mac64/96.0.4664.45/chromedriver] found in cache\n"
     ]
    }
   ],
   "source": [
    "from linkedin_scraper import Person, actions\n",
    "from selenium import webdriver\n",
    "from webdriver_manager.chrome import ChromeDriverManager\n",
    "# driver = webdriver.Chrome()\n",
    "driver = webdriver.Chrome(ChromeDriverManager().install())\n",
    "\n",
    "email = \"vaidyanathanabhishekjobnotifs@gmail.com\"\n",
    "password = \"notifsjobAbhishek033@\"\n",
    "actions.login(driver, email, password) # if email and password isnt given, it'll prompt in terminal\n",
    "person = Person(\"https://www.linkedin.com/in/abhishek-vaidyanathan-3364b2196/\",driver=driver)"
   ]
  },
  {
   "cell_type": "code",
   "execution_count": 250,
   "metadata": {},
   "outputs": [
    {
     "data": {
      "text/plain": [
       "Abhishek Vaidyanathan\n",
       "\n",
       "About\n",
       "[]\n",
       "\n",
       "Experience\n",
       "[Company Name\n",
       "Ubisoft at None from None to None for None based at None, Company Name\n",
       "IEEE NTU Student Branch at None from None to None for None based at None, Research Intern at A*STAR - Agency for Science, Technology and Research Internship from May 2021 to Jul 2021 for 3 mos based at Singapore, Company Name\n",
       "Nanyang Technological University at None from None to None for None based at None, Machine Learning Engineer at NTUitive Part-time from Jan 2021 to Mar 2021 for 3 mos based at Singapore]\n",
       "\n",
       "Education\n",
       "[Bachelor's degree at Nanyang Technological University from 2019 to 2023, 12th standard CBSE at Dav Sr Sec School - India from 2018 to 2019]\n",
       "\n",
       "Interest\n",
       "[]\n",
       "\n",
       "Accomplishments\n",
       "[]\n",
       "\n",
       "Contacts\n",
       "[]"
      ]
     },
     "execution_count": 250,
     "metadata": {},
     "output_type": "execute_result"
    }
   ],
   "source": [
    "person"
   ]
  },
  {
   "cell_type": "code",
   "execution_count": null,
   "metadata": {},
   "outputs": [],
   "source": [
    "from selenium.webdriver.common.keys import Keys\n",
    "driver.get('https://www.linkedin.com/login')\n",
    "# time.sleep(3)\n",
    "email = \"vaidyanathanabhishekjobnotifs@gmail.com\"\n",
    "password = \"notifsjobAbhishek033@\"\n",
    "driver.find_element_by_id('username').send_keys(email)\n",
    "driver.find_element_by_id('password').send_keys(password)\n",
    "driver.find_element_by_id('password').send_keys(Keys.RETURN)"
   ]
  },
  {
   "cell_type": "code",
   "execution_count": 1,
   "metadata": {},
   "outputs": [],
   "source": [
    "def insertion_sort(array):\n",
    "    for i in range(0,len(array)):\n",
    "        key = array[i]\n",
    "        j = i-1\n",
    "        while(j>=0 and key<=array[j]):\n",
    "            array[j+1] = array[j]\n",
    "            j = j-1\n",
    "        array[j+1] = key\n",
    "\n",
    "array = [12, 11, 13, 5, 6]\n",
    "insertion_sort(array)"
   ]
  },
  {
   "cell_type": "code",
   "execution_count": 4,
   "metadata": {},
   "outputs": [],
   "source": [
    "def merge_sort(array):\n",
    "    if(len(array)>1):\n",
    "        mid_point = len(array)//2\n",
    "\n",
    "        left = array[:mid_point]\n",
    "        right = array[mid_point:]\n",
    "\n",
    "        merge_sort(left)\n",
    "        merge_sort(right)\n",
    "\n",
    "        i = 0\n",
    "        j = 0\n",
    "        k = 0\n",
    "        while(i<len(left) and j<len(right)):\n",
    "            if(left[i]<right[j]):\n",
    "                array[k] = left[i]\n",
    "                i = i+1\n",
    "                k = k+1\n",
    "            else:\n",
    "                array[k] = right[j]\n",
    "                j = j+1\n",
    "                k = k+1\n",
    "        while(i<len(left)):\n",
    "            array[k] = left[i]\n",
    "            i = i+1\n",
    "            k = k+1\n",
    "        while(j<len(right)):\n",
    "            array[k] = right[j]\n",
    "            j = j+1\n",
    "            k = k+1\n",
    "\n",
    "array = [12, 11, 13, 5, 6]\n",
    "merge_sort(array)"
   ]
  },
  {
   "cell_type": "code",
   "execution_count": 11,
   "metadata": {},
   "outputs": [],
   "source": [
    "def partition(array,low,high):\n",
    "    pivot = array[high]\n",
    "    i = low-1\n",
    "    for j in range(low,high):\n",
    "        if(array[j]<=pivot):\n",
    "            i = i+1\n",
    "            dummy = array[i]\n",
    "            array[i] = array[j]\n",
    "            array[j] = dummy\n",
    "    \n",
    "    array[high] = array[i+1]\n",
    "    array[i+1] = pivot\n",
    "    \n",
    "    return i+1\n",
    "\n",
    "def quicksort(array,low,high):\n",
    "    if(low<high):\n",
    "        pivot_index = partition(array,low,high)\n",
    "        quicksort(array,low,pivot_index-1)\n",
    "        quicksort(array,pivot_index+1,high)\n",
    "\n",
    "\n",
    "array = [12, 11, 13, 5, 6]\n",
    "quicksort(array,0,len(array)-1)"
   ]
  },
  {
   "cell_type": "code",
   "execution_count": 12,
   "metadata": {},
   "outputs": [
    {
     "data": {
      "text/plain": [
       "[5, 6, 11, 12, 13]"
      ]
     },
     "execution_count": 12,
     "metadata": {},
     "output_type": "execute_result"
    }
   ],
   "source": [
    "array\n"
   ]
  },
  {
   "cell_type": "code",
   "execution_count": 16,
   "metadata": {},
   "outputs": [
    {
     "data": {
      "text/plain": [
       "7"
      ]
     },
     "execution_count": 16,
     "metadata": {},
     "output_type": "execute_result"
    }
   ],
   "source": [
    "def min_amount(array):\n",
    "    i = 0\n",
    "    j = 0\n",
    "    sum = 0\n",
    "    min_val = array[i]\n",
    "    while(i<len(array)):\n",
    "        if(i==0):\n",
    "            sum = sum+array[i]\n",
    "        else:\n",
    "            if(array[i-1]<min_val):\n",
    "                min_val = array[i-1]\n",
    "            sum = sum+(max(array[i]-min_val,0))\n",
    "        i = i+1\n",
    "    return sum\n",
    "\n",
    "array = [3,5,2,4]\n",
    "min_amount(array)"
   ]
  },
  {
   "cell_type": "code",
   "execution_count": 83,
   "metadata": {},
   "outputs": [],
   "source": [
    "def modify_heap(array,n,i):\n",
    "    largest = i\n",
    "    l = (2*i)+1\n",
    "    r = (2*i)+2\n",
    "    if(l<n and array[l]<array[largest]):\n",
    "        largest = l\n",
    "    if(r<n and array[r]<array[largest]):\n",
    "        largest = r\n",
    "    if(largest!=i):\n",
    "        dummy = array[largest]\n",
    "        array[largest] = array[i]\n",
    "        array[i] = dummy\n",
    "        modify_heap(array,n,largest)\n",
    "\n",
    "def build_heap(array,n):\n",
    "    start = n//2+1\n",
    "    for i in range(start,-1,-1):\n",
    "        modify_heap(array,n,i)\n",
    "\n",
    "arr = [1, 3, 5, 4, 6, 13,\n",
    "           10, 9, 8, 15, 17]\n",
    "build_heap(arr,len(arr))\n"
   ]
  },
  {
   "cell_type": "code",
   "execution_count": 84,
   "metadata": {},
   "outputs": [
    {
     "data": {
      "text/plain": [
       "[1, 3, 5, 4, 6, 13, 10, 9, 8, 15, 17]"
      ]
     },
     "execution_count": 84,
     "metadata": {},
     "output_type": "execute_result"
    }
   ],
   "source": [
    "arr"
   ]
  },
  {
   "cell_type": "code",
   "execution_count": 85,
   "metadata": {},
   "outputs": [],
   "source": [
    "def get_parent(curr):\n",
    "    return curr//2\n",
    "def insert_element(arr,element):\n",
    "    curr = len(arr)\n",
    "    arr.append(element)\n",
    "    while(arr[curr]<arr[get_parent(curr)]):\n",
    "        dummy = arr[get_parent(curr)]\n",
    "        arr[get_parent(curr)] = arr[curr]\n",
    "        arr[curr] = dummy\n",
    "        curr = get_parent(curr)\n",
    "\n",
    "insert_element(arr,2)"
   ]
  },
  {
   "cell_type": "code",
   "execution_count": 86,
   "metadata": {},
   "outputs": [
    {
     "data": {
      "text/plain": [
       "[1, 2, 3, 4, 6, 5, 10, 9, 8, 15, 17, 13]"
      ]
     },
     "execution_count": 86,
     "metadata": {},
     "output_type": "execute_result"
    }
   ],
   "source": [
    "arr"
   ]
  },
  {
   "cell_type": "code",
   "execution_count": 93,
   "metadata": {},
   "outputs": [
    {
     "data": {
      "text/plain": [
       "[1, 4, 3, 8, 6, 5, 10, 9, 13, 15, 17]"
      ]
     },
     "execution_count": 93,
     "metadata": {},
     "output_type": "execute_result"
    }
   ],
   "source": [
    "def heapify(array,i,n):\n",
    "    largest = i\n",
    "    l = (2*i)+1\n",
    "    r = (2*i)+2\n",
    "    if(l<n and array[l]<array[largest]):\n",
    "        largest = l\n",
    "    if(r<n and array[r]<array[largest]):\n",
    "        largest = r\n",
    "    if(largest!=i):\n",
    "        dummy = array[largest]\n",
    "        array[largest] = array[i]\n",
    "        array[i] = dummy\n",
    "        heapify(array,largest,n)\n",
    "\n",
    "def remove_element(arr,index):\n",
    "    curr = len(arr)-1\n",
    "    arr[index] = arr[curr]\n",
    "    arr = arr[:-1]\n",
    "    heapify(arr,index,len(arr))\n",
    "    return arr\n",
    "\n",
    "remove_element(arr,1)\n",
    "    "
   ]
  },
  {
   "cell_type": "code",
   "execution_count": 94,
   "metadata": {},
   "outputs": [
    {
     "data": {
      "text/plain": [
       "[1, 13, 3, 4, 6, 5, 10, 9, 8, 15, 17, 13]"
      ]
     },
     "execution_count": 94,
     "metadata": {},
     "output_type": "execute_result"
    }
   ],
   "source": [
    "arr"
   ]
  },
  {
   "cell_type": "code",
   "execution_count": 95,
   "metadata": {},
   "outputs": [
    {
     "data": {
      "text/plain": [
       "3"
      ]
     },
     "execution_count": 95,
     "metadata": {},
     "output_type": "execute_result"
    }
   ],
   "source": [
    "def binary_search(array,element):\n",
    "    low = 0\n",
    "    high = len(array)-1\n",
    "    while(low<=high):\n",
    "        mid = (low+high)//2\n",
    "        if(element == array[mid]):\n",
    "            return mid\n",
    "        elif(array[mid]<element):\n",
    "            low = mid+1\n",
    "        elif(array[mid]>element):\n",
    "            high = mid-1\n",
    "    return False\n",
    "arr = [2, 3, 4, 10, 40]\n",
    "x = 10\n",
    "binary_search(arr,x)"
   ]
  },
  {
   "cell_type": "code",
   "execution_count": 99,
   "metadata": {},
   "outputs": [
    {
     "data": {
      "text/plain": [
       "False"
      ]
     },
     "execution_count": 99,
     "metadata": {},
     "output_type": "execute_result"
    }
   ],
   "source": [
    "tuple([1,2]) == tuple([2,1])"
   ]
  },
  {
   "cell_type": "code",
   "execution_count": 104,
   "metadata": {},
   "outputs": [
    {
     "name": "stdout",
     "output_type": "stream",
     "text": [
      "---------------\n",
      "-2\n",
      "0\n",
      "---------------\n",
      "---------------\n",
      "-2\n",
      "0\n",
      "---------------\n",
      "---------------\n",
      "-2\n",
      "0\n",
      "---------------\n",
      "---------------\n",
      "3\n",
      "0\n",
      "---------------\n",
      "---------------\n",
      "3\n",
      "3\n",
      "---------------\n"
     ]
    }
   ],
   "source": [
    "\n",
    "gas = [1,2,3,4,5]\n",
    "cost = [3,4,5,1,2]\n",
    "ans = 0\n",
    "net = 0\n",
    "sum = 0\n",
    "for i in range(len(gas)):\n",
    "    print(\"---------------\")\n",
    "    print(gas[i] - cost[i])\n",
    "    print(sum)\n",
    "    print(\"---------------\")\n",
    "    net += gas[i] - cost[i]\n",
    "    sum += gas[i] - cost[i]\n",
    "    if sum < 0:\n",
    "        sum = 0\n",
    "        ans = i + 1"
   ]
  },
  {
   "cell_type": "code",
   "execution_count": 6,
   "metadata": {},
   "outputs": [
    {
     "data": {
      "text/plain": [
       "'a'"
      ]
     },
     "execution_count": 6,
     "metadata": {},
     "output_type": "execute_result"
    }
   ],
   "source": [
    "dict_o ={1:'a',2:'b',3:'c'}\n",
    "\n",
    "dict_o.pop(1)"
   ]
  },
  {
   "cell_type": "code",
   "execution_count": 7,
   "metadata": {},
   "outputs": [
    {
     "data": {
      "text/plain": [
       "{2: 'b', 3: 'c'}"
      ]
     },
     "execution_count": 7,
     "metadata": {},
     "output_type": "execute_result"
    }
   ],
   "source": [
    "dict_o"
   ]
  },
  {
   "cell_type": "code",
   "execution_count": 8,
   "metadata": {},
   "outputs": [
    {
     "data": {
      "text/plain": [
       "2"
      ]
     },
     "execution_count": 8,
     "metadata": {},
     "output_type": "execute_result"
    }
   ],
   "source": [
    "import random\n",
    "random.choice(list(dict_o))"
   ]
  },
  {
   "cell_type": "code",
   "execution_count": null,
   "metadata": {},
   "outputs": [],
   "source": []
  }
 ],
 "metadata": {
  "kernelspec": {
   "display_name": "Python 3.9.6 64-bit",
   "language": "python",
   "name": "python3"
  },
  "language_info": {
   "codemirror_mode": {
    "name": "ipython",
    "version": 3
   },
   "file_extension": ".py",
   "mimetype": "text/x-python",
   "name": "python",
   "nbconvert_exporter": "python",
   "pygments_lexer": "ipython3",
   "version": "3.9.6"
  },
  "orig_nbformat": 4,
  "vscode": {
   "interpreter": {
    "hash": "397704579725e15f5c7cb49fe5f0341eb7531c82d19f2c29d197e8b64ab5776b"
   }
  }
 },
 "nbformat": 4,
 "nbformat_minor": 2
}
